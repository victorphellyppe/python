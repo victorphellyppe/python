{
 "cells": [
  {
   "cell_type": "code",
   "execution_count": 1,
   "metadata": {},
   "outputs": [],
   "source": [
    "import pandas as pd"
   ]
  },
  {
   "cell_type": "code",
   "execution_count": 4,
   "metadata": {},
   "outputs": [],
   "source": [
    "dt = pd.DataFrame([['Atendimento excelente, chega de coisa ruim no mercado','positivo'],\n",
    "\t\t            ['Gostei muito do atendimento, estão de parabéns!!, recomendo muito!','positivo'],\n",
    "\t\t            ['É uma pena não ter estacionamento, isso prejudica demais!','negativo'],\n",
    "\t\t            ['Achei que tinha estacionamento, isso quebrou minhas pernas','negativo'],\n",
    "\t\t            ['Achei o preço salgado!','negativo'],\n",
    "                    ['Comida muito boa, preço bom!!' , 'positivo'],\n",
    "                    ['Preço bom e lugar aconchegante.','positivo']], columns=['review','sentimento'])"
   ]
  },
  {
   "cell_type": "code",
   "execution_count": 5,
   "metadata": {},
   "outputs": [],
   "source": [
    "def word_count(review, word):\n",
    "\tcont = 0\n",
    "\treview = review.lower()\n",
    "\tif word in review.lower():\n",
    "\t   return review.count(word)\n",
    "\telse:\n",
    "\t   return 0"
   ]
  },
  {
   "cell_type": "code",
   "execution_count": 8,
   "metadata": {},
   "outputs": [],
   "source": [
    "soma = lambda x,y: x+y\n",
    "#print(soma(1,2))"
   ]
  },
  {
   "cell_type": "code",
   "execution_count": 9,
   "metadata": {},
   "outputs": [
    {
     "name": "stdout",
     "output_type": "stream",
     "text": [
      "                                              review sentimento  atendimento  \\\n",
      "0  Atendimento excelente, chega de coisa ruim no ...   positivo            1   \n",
      "1  Gostei muito do atendimento, estão de parabéns...   positivo            1   \n",
      "2  É uma pena não ter estacionamento, isso prejud...   negativo            0   \n",
      "3  Achei que tinha estacionamento, isso quebrou m...   negativo            0   \n",
      "4                             Achei o preço salgado!   negativo            0   \n",
      "5                      Comida muito boa, preço bom!!   positivo            0   \n",
      "6                    Preço bom e lugar aconchegante.   positivo            0   \n",
      "\n",
      "   estacionamento  preço  comida  \n",
      "0               0      0       0  \n",
      "1               0      0       0  \n",
      "2               1      0       0  \n",
      "3               1      0       0  \n",
      "4               0      1       0  \n",
      "5               0      1       1  \n",
      "6               0      1       0  \n"
     ]
    }
   ],
   "source": [
    "dt['atendimento'] = dt['review'].apply(lambda x: word_count(x, 'atendimento'))\n",
    "dt['estacionamento'] = dt['review'].apply(lambda x: word_count(x, 'estacionamento'))\n",
    "dt['preço'] = dt['review'].apply(lambda x: word_count(x, 'preço'))\n",
    "dt['comida'] = dt['review'].apply(lambda x: word_count(x, 'comida'))\n",
    "print(dt)"
   ]
  },
  {
   "cell_type": "code",
   "execution_count": 10,
   "metadata": {},
   "outputs": [
    {
     "data": {
      "text/html": [
       "<div>\n",
       "<style scoped>\n",
       "    .dataframe tbody tr th:only-of-type {\n",
       "        vertical-align: middle;\n",
       "    }\n",
       "\n",
       "    .dataframe tbody tr th {\n",
       "        vertical-align: top;\n",
       "    }\n",
       "\n",
       "    .dataframe thead th {\n",
       "        text-align: right;\n",
       "    }\n",
       "</style>\n",
       "<table border=\"1\" class=\"dataframe\">\n",
       "  <thead>\n",
       "    <tr style=\"text-align: right;\">\n",
       "      <th></th>\n",
       "      <th>atendimento</th>\n",
       "      <th>estacionamento</th>\n",
       "      <th>preço</th>\n",
       "      <th>comida</th>\n",
       "    </tr>\n",
       "    <tr>\n",
       "      <th>sentimento</th>\n",
       "      <th></th>\n",
       "      <th></th>\n",
       "      <th></th>\n",
       "      <th></th>\n",
       "    </tr>\n",
       "  </thead>\n",
       "  <tbody>\n",
       "    <tr>\n",
       "      <th>negativo</th>\n",
       "      <td>0</td>\n",
       "      <td>2</td>\n",
       "      <td>1</td>\n",
       "      <td>0</td>\n",
       "    </tr>\n",
       "    <tr>\n",
       "      <th>positivo</th>\n",
       "      <td>2</td>\n",
       "      <td>0</td>\n",
       "      <td>2</td>\n",
       "      <td>1</td>\n",
       "    </tr>\n",
       "  </tbody>\n",
       "</table>\n",
       "</div>"
      ],
      "text/plain": [
       "            atendimento  estacionamento  preço  comida\n",
       "sentimento                                            \n",
       "negativo              0               2      1       0\n",
       "positivo              2               0      2       1"
      ]
     },
     "execution_count": 10,
     "metadata": {},
     "output_type": "execute_result"
    }
   ],
   "source": [
    "dt.groupby(['sentimento'])[dt.columns].agg('sum')"
   ]
  },
  {
   "cell_type": "code",
   "execution_count": null,
   "metadata": {},
   "outputs": [],
   "source": []
  }
 ],
 "metadata": {
  "kernelspec": {
   "display_name": "Python 3",
   "language": "python",
   "name": "python3"
  },
  "language_info": {
   "codemirror_mode": {
    "name": "ipython",
    "version": 3
   },
   "file_extension": ".py",
   "mimetype": "text/x-python",
   "name": "python",
   "nbconvert_exporter": "python",
   "pygments_lexer": "ipython3",
   "version": "3.6.5"
  }
 },
 "nbformat": 4,
 "nbformat_minor": 2
}
